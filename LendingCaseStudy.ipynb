{
 "cells": [
  {
   "cell_type": "code",
   "execution_count": 37,
   "id": "686d46b9",
   "metadata": {},
   "outputs": [
    {
     "name": "stdout",
     "output_type": "stream",
     "text": [
      "Lending Case Study\n",
      "(39717, 111)\n"
     ]
    }
   ],
   "source": [
    "#Importing all the required libraries\n",
    "import pandas as pd\n",
    "import matplotlib.pyplot as plt\n",
    "import seaborn as sns\n",
    "import numpy as np\n",
    "from scipy import stats\n",
    "\n",
    "print(\"Lending Case Study\")\n",
    "\n",
    "# Read loan.csv as a data frame\n",
    "loan = pd.read_csv(\"data/loan.csv\",dtype=object)\n",
    "print(loan.shape) "
   ]
  },
  {
   "cell_type": "code",
   "execution_count": null,
   "id": "23daec31",
   "metadata": {},
   "outputs": [],
   "source": [
    "# Find how many columns and rows contains missing values\n",
    "print(loan.isnull().all(axis=0).sum())  # check in columns - 54 columns have missing values\n",
    "print(loan.isnull().all(axis=1).sum())  # check in rows   - 0 columns have missing values\n",
    "\n",
    "# drop columns which has missing values\n",
    "loan.dropna(axis='columns',how='all',inplace=True)\n",
    "print(loan.isnull().all(axis=0).sum())\n",
    "print(loan.info())"
   ]
  },
  {
   "cell_type": "code",
   "execution_count": null,
   "id": "802b95f1",
   "metadata": {},
   "outputs": [],
   "source": [
    "# Check any duplicate entry in any of the row\n",
    "duplicate_rows = loan.duplicated().sum()\n",
    "print(duplicate_rows)\n",
    "\n",
    "# Univariate Analysis - Categorical data - loan_status\n",
    "# As loan_status (Fully Paid, Charged Off, Current) is the important key, getting percentage distribution of this.\n",
    "loan_stat_percentage = (loan.loan_status.value_counts(normalize=True)*100).round(2)\n",
    "\n",
    "# plot loan_status to view percentage distribution\n",
    "# Plot the percentage distribution\n",
    "bar_plot = sns.barplot(x=loan_stat_percentage.index,y=loan_stat_percentage, color='skyblue')\n",
    "\n",
    "# Add values to each bar\n",
    "for index, value in enumerate(loan_stat_percentage):\n",
    "    bar_plot.text(index, value + 0.5, f'{value:.1f}%', ha='center', va='bottom', fontsize=10)\n",
    "\n",
    "plt.title('Percentage Distribution of Loan Types')\n",
    "plt.xlabel('Loan Type')\n",
    "plt.ylabel('Percentage')\n",
    "plt.show() \n",
    "\n",
    "#Observation - Maximum Number (Around 83%) of people able to repay their loan "
   ]
  },
  {
   "cell_type": "code",
   "execution_count": null,
   "id": "de7ab6d2",
   "metadata": {},
   "outputs": [],
   "source": [
    "# Univariate Analysis - loan_purpose\n",
    "loan_purpose_percentage = (loan.purpose.value_counts(normalize=True)*100).round(2)\n",
    "\n",
    "# plot loan_status to view percentage distribution\n",
    "# Plot the percentage distribution\n",
    "bar_plot = sns.barplot(x=loan_purpose_percentage.index,y=loan_purpose_percentage, color='skyblue')\n",
    "\n",
    "# Add values to each bar\n",
    "for index, value in enumerate(loan_purpose_percentage):\n",
    "    bar_plot.text(index, value, f'{value:.1f}%', ha='center', va='bottom', fontsize=8)\n",
    "    \n",
    "plt.xticks(rotation=90)\n",
    "plt.title('Percentage Distribution of Purpose for which loan was taken')\n",
    "plt.xlabel('Purpose')\n",
    "plt.ylabel('Percentage')\n",
    "plt.show() \n",
    "\n",
    "#Observation - Maximum Number (Around 46.9%) taken for debt_consolidation"
   ]
  },
  {
   "cell_type": "code",
   "execution_count": null,
   "id": "6d0fd6aa",
   "metadata": {},
   "outputs": [],
   "source": [
    "# Univariate Analysis - state (which state people took more loan)\n",
    "loan_state_percentage = (loan.addr_state.value_counts(normalize=True)*100).round(2)\n",
    "\n",
    "#AS more states, state values are collapsing so adjusting width here\n",
    "plt.figure(figsize=(20,5))\n",
    "\n",
    "# plot state to view percentage distribution\n",
    "# Plot the percentage distribution\n",
    "bar_plot = sns.barplot(x=loan_state_percentage.index,y=loan_state_percentage, color='skyblue')\n",
    "\n",
    "# Add values to each bar\n",
    "for index, value in enumerate(loan_state_percentage):\n",
    "    bar_plot.text(index, value, f'{value:.1f}%', ha='center', va='bottom', fontsize=6)\n",
    "     \n",
    "plt.xticks(rotation=90)\n",
    "plt.title('Percentage Distribution of states where people took more number of loans')\n",
    "plt.xlabel('state')\n",
    "plt.ylabel('Percentage')\n",
    "plt.show() \n",
    "\n",
    "#Observation - state CA has maximum number of borrower"
   ]
  },
  {
   "cell_type": "code",
   "execution_count": null,
   "id": "a0f9278e",
   "metadata": {},
   "outputs": [],
   "source": [
    "# Univariate Analysis - term\n",
    "\n",
    "\n",
    "# plot state to view percentage distribution\n",
    "# Plot the percentage distribution\n",
    "term  = loan['term'].replace('\\D','',regex=True)\n",
    "\n",
    "loan_term_percentage = (term.value_counts(normalize=True)*100).round(2)\n",
    "\n",
    "bar_plot = sns.barplot(x=loan_term_percentage.index,y=loan_term_percentage, color='skyblue')\n",
    "\n",
    "# Add values to each bar\n",
    "for index, value in enumerate(loan_term_percentage):\n",
    "    bar_plot.text(index, value, f'{value:.1f}%', ha='center', va='bottom', fontsize=6)\n",
    "     \n",
    "plt.xticks(rotation=90)\n",
    "plt.title('Percentage Distribution of short and long term loans')\n",
    "plt.xlabel('term')\n",
    "plt.ylabel('Percentage')\n",
    "plt.show() \n",
    "\n",
    "#Observation - People are interested to take short term compared to long term loans"
   ]
  },
  {
   "cell_type": "code",
   "execution_count": 42,
   "id": "400ca421",
   "metadata": {},
   "outputs": [
    {
     "name": "stdout",
     "output_type": "stream",
     "text": [
      "int64\n",
      "count    39717.00\n",
      "mean      9579.94\n",
      "std       5120.00\n",
      "min        500.00\n",
      "25%       5500.00\n",
      "50%      10000.00\n",
      "75%      12025.00\n",
      "max      23975.00\n",
      "Name: loan_amnt, dtype: float64\n",
      "count    39717.00\n",
      "mean      9579.94\n",
      "std       5120.00\n",
      "min        500.00\n",
      "25%       5500.00\n",
      "50%      10000.00\n",
      "75%      12025.00\n",
      "max      23975.00\n",
      "Name: loan_amnt, dtype: float64\n"
     ]
    },
    {
     "data": {
      "text/plain": [
       "<Axes: >"
      ]
     },
     "execution_count": 42,
     "metadata": {},
     "output_type": "execute_result"
    },
    {
     "data": {
      "image/png": "[encoded data removed]",
      "text/plain": [
       "<Figure size 640x480 with 1 Axes>"
      ]
     },
     "metadata": {},
     "output_type": "display_data"
    }
   ],
   "source": [
    "# Univariate Analysis - loan_amount - It is a numerical data so we can extract statistics\n",
    "\n",
    "#Check the type of loan amount\n",
    "print(loan.loan_amnt.dtypes) #It is of object type so convert to number\n",
    "\n",
    "loan['loan_amnt'] = pd.to_numeric(loan['loan_amnt'], errors='coerce')\n",
    "\n",
    "print(loan['loan_amnt'].describe().round(2))\n",
    "\n",
    "# Identifying outlier using Interquartile range\n",
    "z = np.abs(stats.zscore(loan['loan_amnt']))\n",
    "\n",
    "threshold = 3\n",
    "#outliers = df[z > threshold]\n",
    "\n",
    "#print(len(outliers))\n",
    "# replace outliers with median value\n",
    "loan.loc[z > threshold, 'loan_amnt'] = loan['loan_amnt'].median()\n",
    "\n",
    "print(loan['loan_amnt'].describe().round(2))\n",
    "\n",
    "sns.boxplot(loan['loan_amnt'])"
   ]
  },
  {
   "cell_type": "code",
   "execution_count": null,
   "id": "dfb21d5c",
   "metadata": {},
   "outputs": [],
   "source": [
    "# Univariate Analysis - verification_status\n",
    "Ver_status_percentage = (loan.verification_status.value_counts(normalize=True)*100).round(2)\n",
    "\n",
    "# plot state to view percentage distribution\n",
    "# Plot the percentage distribution\n",
    "bar_plot = sns.barplot(x=Ver_status_percentage.index,y=Ver_status_percentage, color='skyblue')\n",
    "\n",
    "# Add values to each bar\n",
    "for index, value in enumerate(Ver_status_percentage):\n",
    "    bar_plot.text(index, value, f'{value:.1f}%', ha='center', va='bottom', fontsize=6)\n",
    "     \n",
    "#plt.xticks(rotation=90)\n",
    "plt.title('Percentage Distribution of Verification status of borrower')\n",
    "plt.xlabel('Verification Status')\n",
    "plt.ylabel('Percentage')\n",
    "plt.show() \n",
    "\n",
    "#Observation - state CA has maximum number of borrower"
   ]
  },
  {
   "cell_type": "code",
   "execution_count": 43,
   "id": "fcbf9c64",
   "metadata": {},
   "outputs": [
    {
     "name": "stderr",
     "output_type": "stream",
     "text": [
      "C:\\Users\\tejas\\AppData\\Local\\Temp\\ipykernel_8668\\698527170.py:1: FutureWarning: The default value of numeric_only in DataFrame.corr is deprecated. In a future version, it will default to False. Select only valid columns or specify the value of numeric_only to silence this warning.\n",
      "  loan_correlation = loan.corr()\n"
     ]
    },
    {
     "ename": "ValueError",
     "evalue": "The number of observations cannot be determined on an empty distance matrix.",
     "output_type": "error",
     "traceback": [
      "\u001b[1;31m---------------------------------------------------------------------------\u001b[0m",
      "\u001b[1;31mValueError\u001b[0m                                Traceback (most recent call last)",
      "Cell \u001b[1;32mIn[43], line 3\u001b[0m\n\u001b[0;32m      1\u001b[0m loan_correlation \u001b[38;5;241m=\u001b[39m loan\u001b[38;5;241m.\u001b[39mcorr()\n\u001b[0;32m      2\u001b[0m sns\u001b[38;5;241m.\u001b[39mset(font_scale\u001b[38;5;241m=\u001b[39m\u001b[38;5;241m1.1\u001b[39m)\n\u001b[1;32m----> 3\u001b[0m sns\u001b[38;5;241m.\u001b[39mclustermap(loan_correlation,annot\u001b[38;5;241m=\u001b[39m\u001b[38;5;28;01mTrue\u001b[39;00m,figsize\u001b[38;5;241m=\u001b[39m(\u001b[38;5;241m12\u001b[39m, \u001b[38;5;241m8\u001b[39m),cmap\u001b[38;5;241m=\u001b[39m\u001b[38;5;124m\"\u001b[39m\u001b[38;5;124mBrBG\u001b[39m\u001b[38;5;124m\"\u001b[39m)\n\u001b[0;32m      4\u001b[0m plt\u001b[38;5;241m.\u001b[39mshow()\n",
      "File \u001b[1;32m~\\anaconda3\\Lib\\site-packages\\seaborn\\matrix.py:1258\u001b[0m, in \u001b[0;36mclustermap\u001b[1;34m(data, pivot_kws, method, metric, z_score, standard_scale, figsize, cbar_kws, row_cluster, col_cluster, row_linkage, col_linkage, row_colors, col_colors, mask, dendrogram_ratio, colors_ratio, cbar_pos, tree_kws, **kwargs)\u001b[0m\n\u001b[0;32m   1250\u001b[0m     \u001b[38;5;28;01mraise\u001b[39;00m \u001b[38;5;167;01mRuntimeError\u001b[39;00m(\u001b[38;5;124m\"\u001b[39m\u001b[38;5;124mclustermap requires scipy to be available\u001b[39m\u001b[38;5;124m\"\u001b[39m)\n\u001b[0;32m   1252\u001b[0m plotter \u001b[38;5;241m=\u001b[39m ClusterGrid(data, pivot_kws\u001b[38;5;241m=\u001b[39mpivot_kws, figsize\u001b[38;5;241m=\u001b[39mfigsize,\n\u001b[0;32m   1253\u001b[0m                       row_colors\u001b[38;5;241m=\u001b[39mrow_colors, col_colors\u001b[38;5;241m=\u001b[39mcol_colors,\n\u001b[0;32m   1254\u001b[0m                       z_score\u001b[38;5;241m=\u001b[39mz_score, standard_scale\u001b[38;5;241m=\u001b[39mstandard_scale,\n\u001b[0;32m   1255\u001b[0m                       mask\u001b[38;5;241m=\u001b[39mmask, dendrogram_ratio\u001b[38;5;241m=\u001b[39mdendrogram_ratio,\n\u001b[0;32m   1256\u001b[0m                       colors_ratio\u001b[38;5;241m=\u001b[39mcolors_ratio, cbar_pos\u001b[38;5;241m=\u001b[39mcbar_pos)\n\u001b[1;32m-> 1258\u001b[0m \u001b[38;5;28;01mreturn\u001b[39;00m plotter\u001b[38;5;241m.\u001b[39mplot(metric\u001b[38;5;241m=\u001b[39mmetric, method\u001b[38;5;241m=\u001b[39mmethod,\n\u001b[0;32m   1259\u001b[0m                     colorbar_kws\u001b[38;5;241m=\u001b[39mcbar_kws,\n\u001b[0;32m   1260\u001b[0m                     row_cluster\u001b[38;5;241m=\u001b[39mrow_cluster, col_cluster\u001b[38;5;241m=\u001b[39mcol_cluster,\n\u001b[0;32m   1261\u001b[0m                     row_linkage\u001b[38;5;241m=\u001b[39mrow_linkage, col_linkage\u001b[38;5;241m=\u001b[39mcol_linkage,\n\u001b[0;32m   1262\u001b[0m                     tree_kws\u001b[38;5;241m=\u001b[39mtree_kws, \u001b[38;5;241m*\u001b[39m\u001b[38;5;241m*\u001b[39mkwargs)\n",
      "File \u001b[1;32m~\\anaconda3\\Lib\\site-packages\\seaborn\\matrix.py:1129\u001b[0m, in \u001b[0;36mClusterGrid.plot\u001b[1;34m(self, metric, method, colorbar_kws, row_cluster, col_cluster, row_linkage, col_linkage, tree_kws, **kws)\u001b[0m\n\u001b[0;32m   1125\u001b[0m     kws\u001b[38;5;241m.\u001b[39mpop(\u001b[38;5;124m\"\u001b[39m\u001b[38;5;124msquare\u001b[39m\u001b[38;5;124m\"\u001b[39m)\n\u001b[0;32m   1127\u001b[0m colorbar_kws \u001b[38;5;241m=\u001b[39m {} \u001b[38;5;28;01mif\u001b[39;00m colorbar_kws \u001b[38;5;129;01mis\u001b[39;00m \u001b[38;5;28;01mNone\u001b[39;00m \u001b[38;5;28;01melse\u001b[39;00m colorbar_kws\n\u001b[1;32m-> 1129\u001b[0m \u001b[38;5;28mself\u001b[39m\u001b[38;5;241m.\u001b[39mplot_dendrograms(row_cluster, col_cluster, metric, method,\n\u001b[0;32m   1130\u001b[0m                       row_linkage\u001b[38;5;241m=\u001b[39mrow_linkage, col_linkage\u001b[38;5;241m=\u001b[39mcol_linkage,\n\u001b[0;32m   1131\u001b[0m                       tree_kws\u001b[38;5;241m=\u001b[39mtree_kws)\n\u001b[0;32m   1132\u001b[0m \u001b[38;5;28;01mtry\u001b[39;00m:\n\u001b[0;32m   1133\u001b[0m     xind \u001b[38;5;241m=\u001b[39m \u001b[38;5;28mself\u001b[39m\u001b[38;5;241m.\u001b[39mdendrogram_col\u001b[38;5;241m.\u001b[39mreordered_ind\n",
      "File \u001b[1;32m~\\anaconda3\\Lib\\site-packages\\seaborn\\matrix.py:974\u001b[0m, in \u001b[0;36mClusterGrid.plot_dendrograms\u001b[1;34m(self, row_cluster, col_cluster, metric, method, row_linkage, col_linkage, tree_kws)\u001b[0m\n\u001b[0;32m    970\u001b[0m \u001b[38;5;28;01mdef\u001b[39;00m \u001b[38;5;21mplot_dendrograms\u001b[39m(\u001b[38;5;28mself\u001b[39m, row_cluster, col_cluster, metric, method,\n\u001b[0;32m    971\u001b[0m                      row_linkage, col_linkage, tree_kws):\n\u001b[0;32m    972\u001b[0m     \u001b[38;5;66;03m# Plot the row dendrogram\u001b[39;00m\n\u001b[0;32m    973\u001b[0m     \u001b[38;5;28;01mif\u001b[39;00m row_cluster:\n\u001b[1;32m--> 974\u001b[0m         \u001b[38;5;28mself\u001b[39m\u001b[38;5;241m.\u001b[39mdendrogram_row \u001b[38;5;241m=\u001b[39m dendrogram(\n\u001b[0;32m    975\u001b[0m             \u001b[38;5;28mself\u001b[39m\u001b[38;5;241m.\u001b[39mdata2d, metric\u001b[38;5;241m=\u001b[39mmetric, method\u001b[38;5;241m=\u001b[39mmethod, label\u001b[38;5;241m=\u001b[39m\u001b[38;5;28;01mFalse\u001b[39;00m, axis\u001b[38;5;241m=\u001b[39m\u001b[38;5;241m0\u001b[39m,\n\u001b[0;32m    976\u001b[0m             ax\u001b[38;5;241m=\u001b[39m\u001b[38;5;28mself\u001b[39m\u001b[38;5;241m.\u001b[39max_row_dendrogram, rotate\u001b[38;5;241m=\u001b[39m\u001b[38;5;28;01mTrue\u001b[39;00m, linkage\u001b[38;5;241m=\u001b[39mrow_linkage,\n\u001b[0;32m    977\u001b[0m             tree_kws\u001b[38;5;241m=\u001b[39mtree_kws\n\u001b[0;32m    978\u001b[0m         )\n\u001b[0;32m    979\u001b[0m     \u001b[38;5;28;01melse\u001b[39;00m:\n\u001b[0;32m    980\u001b[0m         \u001b[38;5;28mself\u001b[39m\u001b[38;5;241m.\u001b[39max_row_dendrogram\u001b[38;5;241m.\u001b[39mset_xticks([])\n",
      "File \u001b[1;32m~\\anaconda3\\Lib\\site-packages\\seaborn\\matrix.py:687\u001b[0m, in \u001b[0;36mdendrogram\u001b[1;34m(data, linkage, axis, label, metric, method, rotate, tree_kws, ax)\u001b[0m\n\u001b[0;32m    684\u001b[0m \u001b[38;5;28;01mif\u001b[39;00m _no_scipy:\n\u001b[0;32m    685\u001b[0m     \u001b[38;5;28;01mraise\u001b[39;00m \u001b[38;5;167;01mRuntimeError\u001b[39;00m(\u001b[38;5;124m\"\u001b[39m\u001b[38;5;124mdendrogram requires scipy to be installed\u001b[39m\u001b[38;5;124m\"\u001b[39m)\n\u001b[1;32m--> 687\u001b[0m plotter \u001b[38;5;241m=\u001b[39m _DendrogramPlotter(data, linkage\u001b[38;5;241m=\u001b[39mlinkage, axis\u001b[38;5;241m=\u001b[39maxis,\n\u001b[0;32m    688\u001b[0m                              metric\u001b[38;5;241m=\u001b[39mmetric, method\u001b[38;5;241m=\u001b[39mmethod,\n\u001b[0;32m    689\u001b[0m                              label\u001b[38;5;241m=\u001b[39mlabel, rotate\u001b[38;5;241m=\u001b[39mrotate)\n\u001b[0;32m    690\u001b[0m \u001b[38;5;28;01mif\u001b[39;00m ax \u001b[38;5;129;01mis\u001b[39;00m \u001b[38;5;28;01mNone\u001b[39;00m:\n\u001b[0;32m    691\u001b[0m     ax \u001b[38;5;241m=\u001b[39m plt\u001b[38;5;241m.\u001b[39mgca()\n",
      "File \u001b[1;32m~\\anaconda3\\Lib\\site-packages\\seaborn\\matrix.py:495\u001b[0m, in \u001b[0;36m_DendrogramPlotter.__init__\u001b[1;34m(self, data, linkage, metric, method, axis, label, rotate)\u001b[0m\n\u001b[0;32m    492\u001b[0m \u001b[38;5;28mself\u001b[39m\u001b[38;5;241m.\u001b[39mrotate \u001b[38;5;241m=\u001b[39m rotate\n\u001b[0;32m    494\u001b[0m \u001b[38;5;28;01mif\u001b[39;00m linkage \u001b[38;5;129;01mis\u001b[39;00m \u001b[38;5;28;01mNone\u001b[39;00m:\n\u001b[1;32m--> 495\u001b[0m     \u001b[38;5;28mself\u001b[39m\u001b[38;5;241m.\u001b[39mlinkage \u001b[38;5;241m=\u001b[39m \u001b[38;5;28mself\u001b[39m\u001b[38;5;241m.\u001b[39mcalculated_linkage\n\u001b[0;32m    496\u001b[0m \u001b[38;5;28;01melse\u001b[39;00m:\n\u001b[0;32m    497\u001b[0m     \u001b[38;5;28mself\u001b[39m\u001b[38;5;241m.\u001b[39mlinkage \u001b[38;5;241m=\u001b[39m linkage\n",
      "File \u001b[1;32m~\\anaconda3\\Lib\\site-packages\\seaborn\\matrix.py:562\u001b[0m, in \u001b[0;36m_DendrogramPlotter.calculated_linkage\u001b[1;34m(self)\u001b[0m\n\u001b[0;32m    558\u001b[0m         msg \u001b[38;5;241m=\u001b[39m (\u001b[38;5;124m\"\u001b[39m\u001b[38;5;124mClustering large matrix with scipy. Installing \u001b[39m\u001b[38;5;124m\"\u001b[39m\n\u001b[0;32m    559\u001b[0m                \u001b[38;5;124m\"\u001b[39m\u001b[38;5;124m`fastcluster` may give better performance.\u001b[39m\u001b[38;5;124m\"\u001b[39m)\n\u001b[0;32m    560\u001b[0m         warnings\u001b[38;5;241m.\u001b[39mwarn(msg)\n\u001b[1;32m--> 562\u001b[0m \u001b[38;5;28;01mreturn\u001b[39;00m \u001b[38;5;28mself\u001b[39m\u001b[38;5;241m.\u001b[39m_calculate_linkage_scipy()\n",
      "File \u001b[1;32m~\\anaconda3\\Lib\\site-packages\\seaborn\\matrix.py:530\u001b[0m, in \u001b[0;36m_DendrogramPlotter._calculate_linkage_scipy\u001b[1;34m(self)\u001b[0m\n\u001b[0;32m    529\u001b[0m \u001b[38;5;28;01mdef\u001b[39;00m \u001b[38;5;21m_calculate_linkage_scipy\u001b[39m(\u001b[38;5;28mself\u001b[39m):\n\u001b[1;32m--> 530\u001b[0m     linkage \u001b[38;5;241m=\u001b[39m hierarchy\u001b[38;5;241m.\u001b[39mlinkage(\u001b[38;5;28mself\u001b[39m\u001b[38;5;241m.\u001b[39marray, method\u001b[38;5;241m=\u001b[39m\u001b[38;5;28mself\u001b[39m\u001b[38;5;241m.\u001b[39mmethod,\n\u001b[0;32m    531\u001b[0m                                 metric\u001b[38;5;241m=\u001b[39m\u001b[38;5;28mself\u001b[39m\u001b[38;5;241m.\u001b[39mmetric)\n\u001b[0;32m    532\u001b[0m     \u001b[38;5;28;01mreturn\u001b[39;00m linkage\n",
      "File \u001b[1;32m~\\anaconda3\\Lib\\site-packages\\scipy\\cluster\\hierarchy.py:1068\u001b[0m, in \u001b[0;36mlinkage\u001b[1;34m(y, method, metric, optimal_ordering)\u001b[0m\n\u001b[0;32m   1064\u001b[0m \u001b[38;5;28;01mif\u001b[39;00m \u001b[38;5;129;01mnot\u001b[39;00m np\u001b[38;5;241m.\u001b[39mall(np\u001b[38;5;241m.\u001b[39misfinite(y)):\n\u001b[0;32m   1065\u001b[0m     \u001b[38;5;28;01mraise\u001b[39;00m \u001b[38;5;167;01mValueError\u001b[39;00m(\u001b[38;5;124m\"\u001b[39m\u001b[38;5;124mThe condensed distance matrix must contain only \u001b[39m\u001b[38;5;124m\"\u001b[39m\n\u001b[0;32m   1066\u001b[0m                      \u001b[38;5;124m\"\u001b[39m\u001b[38;5;124mfinite values.\u001b[39m\u001b[38;5;124m\"\u001b[39m)\n\u001b[1;32m-> 1068\u001b[0m n \u001b[38;5;241m=\u001b[39m \u001b[38;5;28mint\u001b[39m(distance\u001b[38;5;241m.\u001b[39mnum_obs_y(y))\n\u001b[0;32m   1069\u001b[0m method_code \u001b[38;5;241m=\u001b[39m _LINKAGE_METHODS[method]\n\u001b[0;32m   1071\u001b[0m \u001b[38;5;28;01mif\u001b[39;00m method \u001b[38;5;241m==\u001b[39m \u001b[38;5;124m'\u001b[39m\u001b[38;5;124msingle\u001b[39m\u001b[38;5;124m'\u001b[39m:\n",
      "File \u001b[1;32m~\\anaconda3\\Lib\\site-packages\\scipy\\spatial\\distance.py:2564\u001b[0m, in \u001b[0;36mnum_obs_y\u001b[1;34m(Y)\u001b[0m\n\u001b[0;32m   2562\u001b[0m k \u001b[38;5;241m=\u001b[39m Y\u001b[38;5;241m.\u001b[39mshape[\u001b[38;5;241m0\u001b[39m]\n\u001b[0;32m   2563\u001b[0m \u001b[38;5;28;01mif\u001b[39;00m k \u001b[38;5;241m==\u001b[39m \u001b[38;5;241m0\u001b[39m:\n\u001b[1;32m-> 2564\u001b[0m     \u001b[38;5;28;01mraise\u001b[39;00m \u001b[38;5;167;01mValueError\u001b[39;00m(\u001b[38;5;124m\"\u001b[39m\u001b[38;5;124mThe number of observations cannot be determined on \u001b[39m\u001b[38;5;124m\"\u001b[39m\n\u001b[0;32m   2565\u001b[0m                      \u001b[38;5;124m\"\u001b[39m\u001b[38;5;124man empty distance matrix.\u001b[39m\u001b[38;5;124m\"\u001b[39m)\n\u001b[0;32m   2566\u001b[0m d \u001b[38;5;241m=\u001b[39m \u001b[38;5;28mint\u001b[39m(np\u001b[38;5;241m.\u001b[39mceil(np\u001b[38;5;241m.\u001b[39msqrt(k \u001b[38;5;241m*\u001b[39m \u001b[38;5;241m2\u001b[39m)))\n\u001b[0;32m   2567\u001b[0m \u001b[38;5;28;01mif\u001b[39;00m (d \u001b[38;5;241m*\u001b[39m (d \u001b[38;5;241m-\u001b[39m \u001b[38;5;241m1\u001b[39m) \u001b[38;5;241m/\u001b[39m \u001b[38;5;241m2\u001b[39m) \u001b[38;5;241m!=\u001b[39m k:\n",
      "\u001b[1;31mValueError\u001b[0m: The number of observations cannot be determined on an empty distance matrix."
     ]
    },
    {
     "data": {
      "image/png": "[encoded data removed]",
      "text/plain": [
       "<Figure size 1200x800 with 4 Axes>"
      ]
     },
     "metadata": {},
     "output_type": "display_data"
    }
   ],
   "source": [
    "# Select columns for which you want to calculate correlation\n",
    "selected_columns = ['total_pymnt', '', 'C']\n",
    "\n",
    "# Calculate correlation for selected columns\n",
    "loan_correlation = loan[selected_columns].corr()\n",
    "\n",
    "sns.set(font_scale=1.1)\n",
    "sns.clustermap(loan_correlation,annot=True,figsize=(12, 8),cmap=\"BrBG\")\n",
    "plt.show()"
   ]
  },
  {
   "cell_type": "code",
   "execution_count": 46,
   "id": "4c833f3e",
   "metadata": {},
   "outputs": [],
   "source": [
    "# Derive month and year column for more analysis\n",
    "loan['issue_d'] = pd.to_datetime(loan['issue_d'], format='%b-%y')\n",
    "\n",
    "loan['year'] =loan['issue_d'].dt.year\n",
    "loan['month']=loan['issue_d'].dt.month\n"
   ]
  },
  {
   "cell_type": "code",
   "execution_count": null,
   "id": "a5e9b86c",
   "metadata": {},
   "outputs": [],
   "source": []
  }
 ],
 "metadata": {
  "kernelspec": {
   "display_name": "Python 3 (ipykernel)",
   "language": "python",
   "name": "python3"
  },
  "language_info": {
   "codemirror_mode": {
    "name": "ipython",
    "version": 3
   },
   "file_extension": ".py",
   "mimetype": "text/x-python",
   "name": "python",
   "nbconvert_exporter": "python",
   "pygments_lexer": "ipython3",
   "version": "3.11.4"
  }
 },
 "nbformat": 4,
 "nbformat_minor": 5
}
